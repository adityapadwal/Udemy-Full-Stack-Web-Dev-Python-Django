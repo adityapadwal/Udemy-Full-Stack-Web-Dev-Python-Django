{
 "cells": [
  {
   "cell_type": "code",
   "execution_count": 5,
   "id": "0bcb9ee7",
   "metadata": {},
   "outputs": [],
   "source": [
    "import pandas as pd \n",
    "import seaborn as sns \n",
    "import matplotlib.pyplot as plt\n",
    "df=pd.read_csv(\"train.csv\")\n"
   ]
  },
  {
   "cell_type": "code",
   "execution_count": 6,
   "id": "88fd1ee3",
   "metadata": {},
   "outputs": [
    {
     "name": "stdout",
     "output_type": "stream",
     "text": [
      "PassengerId :  0\n",
      "Survived :  0\n",
      "Pclass :  0\n",
      "Name :  0\n",
      "Sex :  0\n",
      "Age :  177\n",
      "SibSp :  0\n",
      "Parch :  0\n",
      "Ticket :  0\n",
      "Fare :  0\n",
      "Cabin :  687\n",
      "Embarked :  2\n"
     ]
    }
   ],
   "source": [
    "for column in df:\n",
    "    print(column, \": \",df[column].isnull().sum())"
   ]
  },
  {
   "cell_type": "code",
   "execution_count": null,
   "id": "cfadd882",
   "metadata": {},
   "outputs": [],
   "source": []
  }
 ],
 "metadata": {
  "kernelspec": {
   "display_name": "Python 3 (ipykernel)",
   "language": "python",
   "name": "python3"
  },
  "language_info": {
   "codemirror_mode": {
    "name": "ipython",
    "version": 3
   },
   "file_extension": ".py",
   "mimetype": "text/x-python",
   "name": "python",
   "nbconvert_exporter": "python",
   "pygments_lexer": "ipython3",
   "version": "3.10.1"
  }
 },
 "nbformat": 4,
 "nbformat_minor": 5
}
